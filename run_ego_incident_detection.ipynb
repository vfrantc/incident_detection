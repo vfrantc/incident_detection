{
  "cells": [
    {
      "cell_type": "markdown",
      "metadata": {
        "id": "view-in-github",
        "colab_type": "text"
      },
      "source": [
        "<a href=\"https://colab.research.google.com/github/vfrantc/incident_detection/blob/main/run_ego_incident_detection.ipynb\" target=\"_parent\"><img src=\"https://colab.research.google.com/assets/colab-badge.svg\" alt=\"Open In Colab\"/></a>"
      ]
    },
    {
      "cell_type": "code",
      "source": [
        "from google.colab import drive\n",
        "drive.mount('/content/drive')"
      ],
      "metadata": {
        "colab": {
          "base_uri": "https://localhost:8080/"
        },
        "id": "5MBU_HrOGIUs",
        "outputId": "52c0746d-9c88-452a-b51e-29cf8b3dd702"
      },
      "execution_count": null,
      "outputs": [
        {
          "output_type": "stream",
          "name": "stdout",
          "text": [
            "Mounted at /content/drive\n"
          ]
        }
      ]
    },
    {
      "cell_type": "code",
      "execution_count": null,
      "metadata": {
        "colab": {
          "base_uri": "https://localhost:8080/"
        },
        "id": "HaLbG9k0Pbyh",
        "outputId": "885a8f29-c66e-43ef-c7ab-ab1396db2f38"
      },
      "outputs": [
        {
          "output_type": "stream",
          "name": "stdout",
          "text": [
            "Cloning into 'incident_detection'...\n",
            "remote: Enumerating objects: 56, done.\u001b[K\n",
            "remote: Counting objects: 100% (56/56), done.\u001b[K\n",
            "remote: Compressing objects: 100% (39/39), done.\u001b[K\n",
            "remote: Total 56 (delta 25), reused 34 (delta 12), pack-reused 0 (from 0)\u001b[K\n",
            "Receiving objects: 100% (56/56), 345.52 KiB | 1.24 MiB/s, done.\n",
            "Resolving deltas: 100% (25/25), done.\n",
            "/content/incident_detection\n",
            "Downloading...\n",
            "From (original): https://drive.google.com/uc?id=1-8EYuHxaes2wSclb8XB5_zgOCXAbKS83\n",
            "From (redirected): https://drive.google.com/uc?id=1-8EYuHxaes2wSclb8XB5_zgOCXAbKS83&confirm=t&uuid=c1f8eb85-5c9e-4cb2-aafd-200cafd85b50\n",
            "To: /content/incident_detection/weights/best_model_002_320x320_1.pth\n",
            "100% 354M/354M [00:01<00:00, 277MB/s]\n",
            "Downloading...\n",
            "From (original): https://drive.google.com/uc?id=1-1xHgcppseMcShqNIASkj4xJWB69mKXJ\n",
            "From (redirected): https://drive.google.com/uc?id=1-1xHgcppseMcShqNIASkj4xJWB69mKXJ&confirm=t&uuid=aa63ebff-4250-4614-818a-c52ff71c4757\n",
            "To: /content/incident_detection/weights/best_model_002_320x320_2.pth\n",
            "100% 354M/354M [00:01<00:00, 266MB/s]\n"
          ]
        }
      ],
      "source": [
        "!git clone https://github.com/vfrantc/incident_detection.git\n",
        "%cd incident_detection\n",
        "\n",
        "!gdown 1-8EYuHxaes2wSclb8XB5_zgOCXAbKS83 -O ./weights/best_model_002_320x320_1.pth # 98 % accuracy\n",
        "!gdown 1-1xHgcppseMcShqNIASkj4xJWB69mKXJ -O ./weights/best_model_002_320x320_2.pth # 98 % accuracy tuned"
      ]
    },
    {
      "cell_type": "code",
      "source": [
        "!rm -rf sample_videos\n",
        "!gdown 1kvvd0c1fwUBFdOwGSRuokCBJ-dm9jYgf -O sample_videos.zip\n",
        "!unzip -q sample_videos.zip -d sample_videos"
      ],
      "metadata": {
        "id": "6R2GegzpyLE-",
        "colab": {
          "base_uri": "https://localhost:8080/"
        },
        "outputId": "7f2d5727-5337-4efa-d890-c7d9b2cfd653"
      },
      "execution_count": null,
      "outputs": [
        {
          "output_type": "stream",
          "name": "stdout",
          "text": [
            "Downloading...\n",
            "From (original): https://drive.google.com/uc?id=1QaZAuC1JvlU0eFHKprOX1aeGn6OvRoOU\n",
            "From (redirected): https://drive.google.com/uc?id=1QaZAuC1JvlU0eFHKprOX1aeGn6OvRoOU&confirm=t&uuid=58be60e1-b0a1-4f18-b8c8-202c41aa28aa\n",
            "To: /content/incident_detection/sample_videos.zip\n",
            "100% 79.1M/79.1M [00:10<00:00, 7.90MB/s]\n"
          ]
        }
      ]
    },
    {
      "cell_type": "code",
      "execution_count": null,
      "metadata": {
        "colab": {
          "base_uri": "https://localhost:8080/"
        },
        "id": "djjfTH9KCRB9",
        "outputId": "d68baa8d-7055-4f4a-e4cb-f4c8437f3976"
      },
      "outputs": [
        {
          "output_type": "stream",
          "name": "stdout",
          "text": [
            "/usr/local/lib/python3.10/dist-packages/torchvision/models/_utils.py:208: UserWarning: The parameter 'pretrained' is deprecated since 0.13 and may be removed in the future, please use 'weights' instead.\n",
            "  warnings.warn(\n",
            "/usr/local/lib/python3.10/dist-packages/torchvision/models/_utils.py:223: UserWarning: Arguments other than a weight enum or `None` for 'weights' are deprecated since 0.13 and may be removed in the future. The current behavior is equivalent to passing `weights=ResNeXt101_32X8D_Weights.IMAGENET1K_V1`. You can also use `weights=ResNeXt101_32X8D_Weights.DEFAULT` to get the most up-to-date weights.\n",
            "  warnings.warn(msg)\n",
            "Downloading: \"https://download.pytorch.org/models/resnext101_32x8d-8ba56ff5.pth\" to /root/.cache/torch/hub/checkpoints/resnext101_32x8d-8ba56ff5.pth\n",
            "100% 340M/340M [00:01<00:00, 233MB/s]\n",
            "100% 33/33 [58:38<00:00, 106.62s/it]\n"
          ]
        }
      ],
      "source": [
        "!python demo_ego.py --input_folder sample_videos --output_folder out"
      ]
    }
  ],
  "metadata": {
    "accelerator": "GPU",
    "colab": {
      "gpuType": "A100",
      "provenance": [],
      "include_colab_link": true
    },
    "kernelspec": {
      "display_name": "Python 3",
      "name": "python3"
    },
    "language_info": {
      "name": "python"
    }
  },
  "nbformat": 4,
  "nbformat_minor": 0
}