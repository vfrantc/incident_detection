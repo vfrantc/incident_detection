{
  "cells": [
    {
      "cell_type": "markdown",
      "metadata": {
        "id": "view-in-github",
        "colab_type": "text"
      },
      "source": [
        "<a href=\"https://colab.research.google.com/github/vfrantc/incident_detection/blob/main/run_incident_detection.ipynb\" target=\"_parent\"><img src=\"https://colab.research.google.com/assets/colab-badge.svg\" alt=\"Open In Colab\"/></a>"
      ]
    },
    {
      "cell_type": "code",
      "execution_count": 1,
      "metadata": {
        "colab": {
          "base_uri": "https://localhost:8080/"
        },
        "id": "HaLbG9k0Pbyh",
        "outputId": "2b3af74c-9a02-4c31-d66d-ff55f11bc869"
      },
      "outputs": [
        {
          "output_type": "stream",
          "name": "stdout",
          "text": [
            "Collecting warmup_scheduler\n",
            "  Downloading warmup_scheduler-0.3.tar.gz (2.1 kB)\n",
            "  Preparing metadata (setup.py) ... \u001b[?25l\u001b[?25hdone\n",
            "Building wheels for collected packages: warmup_scheduler\n",
            "  Building wheel for warmup_scheduler (setup.py) ... \u001b[?25l\u001b[?25hdone\n",
            "  Created wheel for warmup_scheduler: filename=warmup_scheduler-0.3-py3-none-any.whl size=2967 sha256=314ba22f6f096ca3660a8fcb8111d9acb9a04d66cc7ffb5091fad6d3aff14ac0\n",
            "  Stored in directory: /root/.cache/pip/wheels/59/01/9e/d1820991c32916e9808c940f572b462f3e46427f3e76c4d852\n",
            "Successfully built warmup_scheduler\n",
            "Installing collected packages: warmup_scheduler\n",
            "Successfully installed warmup_scheduler-0.3\n",
            "Cloning into 'incident_detection'...\n",
            "remote: Enumerating objects: 16, done.\u001b[K\n",
            "remote: Counting objects: 100% (16/16), done.\u001b[K\n",
            "remote: Compressing objects: 100% (10/10), done.\u001b[K\n",
            "remote: Total 16 (delta 2), reused 12 (delta 1), pack-reused 0\u001b[K\n",
            "Receiving objects: 100% (16/16), 15.22 KiB | 15.22 MiB/s, done.\n",
            "Resolving deltas: 100% (2/2), done.\n",
            "/content/incident_detection\n",
            "Downloading...\n",
            "From (original): https://drive.google.com/uc?id=1pg5BJU8sLgKgt4X1eP5MOSqVJ5Fv4gjZ\n",
            "From (redirected): https://drive.google.com/uc?id=1pg5BJU8sLgKgt4X1eP5MOSqVJ5Fv4gjZ&confirm=t&uuid=aab818ce-60b1-4e21-8391-f991719f8a58\n",
            "To: /content/incident_detection/weights/best_model_002_320x320_1.pth\n",
            "100% 354M/354M [00:05<00:00, 61.6MB/s]\n",
            "Downloading...\n",
            "From (original): https://drive.google.com/uc?id=1W5vl7feefToShz-rUyewn9O8b-7iTY06\n",
            "From (redirected): https://drive.google.com/uc?id=1W5vl7feefToShz-rUyewn9O8b-7iTY06&confirm=t&uuid=52689c94-773b-47cb-a977-40e5a1335a58\n",
            "To: /content/incident_detection/weights/best_model_002_320x320_2.pth\n",
            "100% 354M/354M [00:09<00:00, 37.0MB/s]\n",
            "Downloading...\n",
            "From (original): https://drive.google.com/uc?id=1UiY1Z7Pj663XwYLznWA1BJngMKsPY8fH\n",
            "From (redirected): https://drive.google.com/uc?id=1UiY1Z7Pj663XwYLznWA1BJngMKsPY8fH&confirm=t&uuid=949a0869-9b51-4acc-a5ff-495bb3c60d45\n",
            "To: /content/incident_detection/sample_videos.zip\n",
            "100% 69.5M/69.5M [00:02<00:00, 26.5MB/s]\n",
            "UnZip 6.00 of 20 April 2009, by Debian. Original by Info-ZIP.\n",
            "\n",
            "Usage: unzip [-Z] [-opts[modifiers]] file[.zip] [list] [-x xlist] [-d exdir]\n",
            "  Default action is to extract files in list, except those in xlist, to exdir;\n",
            "  file[.zip] may be a wildcard.  -Z => ZipInfo mode (\"unzip -Z\" for usage).\n",
            "\n",
            "  -p  extract files to pipe, no messages     -l  list files (short format)\n",
            "  -f  freshen existing files, create none    -t  test compressed archive data\n",
            "  -u  update files, create if necessary      -z  display archive comment only\n",
            "  -v  list verbosely/show version info       -T  timestamp archive to latest\n",
            "  -x  exclude files that follow (in xlist)   -d  extract files into exdir\n",
            "modifiers:\n",
            "  -n  never overwrite existing files         -q  quiet mode (-qq => quieter)\n",
            "  -o  overwrite files WITHOUT prompting      -a  auto-convert any text files\n",
            "  -j  junk paths (do not make directories)   -aa treat ALL files as text\n",
            "  -U  use escapes for all non-ASCII Unicode  -UU ignore any Unicode fields\n",
            "  -C  match filenames case-insensitively     -L  make (some) names lowercase\n",
            "  -X  restore UID/GID info                   -V  retain VMS version numbers\n",
            "  -K  keep setuid/setgid/tacky permissions   -M  pipe through \"more\" pager\n",
            "  -O CHARSET  specify a character encoding for DOS, Windows and OS/2 archives\n",
            "  -I CHARSET  specify a character encoding for UNIX and other archives\n",
            "\n",
            "See \"unzip -hh\" or unzip.txt for more help.  Examples:\n",
            "  unzip data1 -x joe   => extract all files except joe from zipfile data1.zip\n",
            "  unzip -p foo | more  => send contents of foo.zip via pipe into program more\n",
            "  unzip -fo foo ReadMe => quietly replace existing ReadMe if archive file newer\n"
          ]
        }
      ],
      "source": [
        "!pip install warmup_scheduler\n",
        "!git clone https://github.com/vfrantc/incident_detection.git\n",
        "%cd incident_detection\n",
        "!gdown 1pg5BJU8sLgKgt4X1eP5MOSqVJ5Fv4gjZ -O ./weights/best_model_002_320x320_1.pth\n",
        "!gdown 1W5vl7feefToShz-rUyewn9O8b-7iTY06 -O ./weights/best_model_002_320x320_2.pth\n",
        "!gdown 1UiY1Z7Pj663XwYLznWA1BJngMKsPY8fH -O sample_videos.zip\n",
        "\n",
        "\n",
        "# Training data:\n",
        "#!gdown 1PuXKp8yt9qq0NlROWG7D20TyEIRbGluT\n",
        "#!unzip -q ./data.zip"
      ]
    },
    {
      "cell_type": "code",
      "source": [
        "!unzip -q sample_videos.zip -d sample_videos"
      ],
      "metadata": {
        "id": "6R2GegzpyLE-"
      },
      "execution_count": 7,
      "outputs": []
    },
    {
      "cell_type": "code",
      "execution_count": 8,
      "metadata": {
        "colab": {
          "base_uri": "https://localhost:8080/"
        },
        "id": "djjfTH9KCRB9",
        "outputId": "8be6218d-0d2f-4225-8cd6-853674011b2e"
      },
      "outputs": [
        {
          "output_type": "stream",
          "name": "stdout",
          "text": [
            "/usr/local/lib/python3.10/dist-packages/torchvision/models/_utils.py:208: UserWarning: The parameter 'pretrained' is deprecated since 0.13 and may be removed in the future, please use 'weights' instead.\n",
            "  warnings.warn(\n",
            "/usr/local/lib/python3.10/dist-packages/torchvision/models/_utils.py:223: UserWarning: Arguments other than a weight enum or `None` for 'weights' are deprecated since 0.13 and may be removed in the future. The current behavior is equivalent to passing `weights=ResNeXt101_32X8D_Weights.IMAGENET1K_V1`. You can also use `weights=ResNeXt101_32X8D_Weights.DEFAULT` to get the most up-to-date weights.\n",
            "  warnings.warn(msg)\n",
            "Traceback (most recent call last):\n",
            "  File \"/content/incident_detection/demo.py\", line 156, in <module>\n",
            "    main(args.input_folder, args.output_folder)\n",
            "  File \"/content/incident_detection/demo.py\", line 137, in main\n",
            "    process_video(input_path, output_path)\n",
            "  File \"/content/incident_detection/demo.py\", line 94, in process_video\n",
            "    outputs1 = model1(frames)\n",
            "  File \"/usr/local/lib/python3.10/dist-packages/torch/nn/modules/module.py\", line 1532, in _wrapped_call_impl\n",
            "    return self._call_impl(*args, **kwargs)\n",
            "  File \"/usr/local/lib/python3.10/dist-packages/torch/nn/modules/module.py\", line 1541, in _call_impl\n",
            "    return forward_call(*args, **kwargs)\n",
            "  File \"/content/incident_detection/model.py\", line 1139, in forward\n",
            "    x = self.feature_extractor(x)\n",
            "  File \"/usr/local/lib/python3.10/dist-packages/torch/nn/modules/module.py\", line 1532, in _wrapped_call_impl\n",
            "    return self._call_impl(*args, **kwargs)\n",
            "  File \"/usr/local/lib/python3.10/dist-packages/torch/nn/modules/module.py\", line 1541, in _call_impl\n",
            "    return forward_call(*args, **kwargs)\n",
            "  File \"/usr/local/lib/python3.10/dist-packages/torchvision/models/resnet.py\", line 285, in forward\n",
            "    return self._forward_impl(x)\n",
            "  File \"/usr/local/lib/python3.10/dist-packages/torchvision/models/resnet.py\", line 275, in _forward_impl\n",
            "    x = self.layer3(x)\n",
            "  File \"/usr/local/lib/python3.10/dist-packages/torch/nn/modules/module.py\", line 1532, in _wrapped_call_impl\n",
            "    return self._call_impl(*args, **kwargs)\n",
            "  File \"/usr/local/lib/python3.10/dist-packages/torch/nn/modules/module.py\", line 1541, in _call_impl\n",
            "    return forward_call(*args, **kwargs)\n",
            "  File \"/usr/local/lib/python3.10/dist-packages/torch/nn/modules/container.py\", line 217, in forward\n",
            "    input = module(input)\n",
            "  File \"/usr/local/lib/python3.10/dist-packages/torch/nn/modules/module.py\", line 1532, in _wrapped_call_impl\n",
            "    return self._call_impl(*args, **kwargs)\n",
            "  File \"/usr/local/lib/python3.10/dist-packages/torch/nn/modules/module.py\", line 1541, in _call_impl\n",
            "    return forward_call(*args, **kwargs)\n",
            "  File \"/usr/local/lib/python3.10/dist-packages/torchvision/models/resnet.py\", line 150, in forward\n",
            "    out = self.conv2(out)\n",
            "  File \"/usr/local/lib/python3.10/dist-packages/torch/nn/modules/module.py\", line 1532, in _wrapped_call_impl\n",
            "    return self._call_impl(*args, **kwargs)\n",
            "  File \"/usr/local/lib/python3.10/dist-packages/torch/nn/modules/module.py\", line 1541, in _call_impl\n",
            "    return forward_call(*args, **kwargs)\n",
            "  File \"/usr/local/lib/python3.10/dist-packages/torch/nn/modules/conv.py\", line 460, in forward\n",
            "    return self._conv_forward(input, self.weight, self.bias)\n",
            "  File \"/usr/local/lib/python3.10/dist-packages/torch/nn/modules/conv.py\", line 456, in _conv_forward\n",
            "    return F.conv2d(input, weight, bias, self.stride,\n",
            "KeyboardInterrupt\n"
          ]
        }
      ],
      "source": [
        "!python demo.py --input_folder sample_videos --output_folder out"
      ]
    },
    {
      "cell_type": "markdown",
      "source": [
        "# Resulting files could be found in /content/incident_detection/out"
      ],
      "metadata": {
        "id": "iQp-SueV79_q"
      }
    },
    {
      "cell_type": "code",
      "source": [],
      "metadata": {
        "id": "BXdPCRxx7Xi2"
      },
      "execution_count": null,
      "outputs": []
    }
  ],
  "metadata": {
    "accelerator": "GPU",
    "colab": {
      "gpuType": "A100",
      "machine_shape": "hm",
      "provenance": [],
      "include_colab_link": true
    },
    "kernelspec": {
      "display_name": "Python 3",
      "name": "python3"
    },
    "language_info": {
      "name": "python"
    }
  },
  "nbformat": 4,
  "nbformat_minor": 0
}